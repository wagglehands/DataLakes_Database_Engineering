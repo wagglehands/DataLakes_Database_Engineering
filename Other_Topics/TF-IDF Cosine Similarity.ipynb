{
 "cells": [
  {
   "cell_type": "code",
   "execution_count": 1,
   "id": "f611e414-048d-4787-88f0-997b9c366f94",
   "metadata": {},
   "outputs": [],
   "source": [
    "import numpy as np\n",
    "from numpy.linalg import *"
   ]
  },
  {
   "cell_type": "code",
   "execution_count": 2,
   "id": "0086d73f-e357-455c-98be-1611ff915cae",
   "metadata": {},
   "outputs": [],
   "source": [
    "d1 = np.array([0.035, 0.07, 0.095, 0.095, 0, 0, 0, 0, 0, 0, 0, 0])\n",
    "d2 = np.array([0.029, 0.029, 0, 0, 0, 0, 0, 0, 0.08, 0.08, 0.08, 0.08])\n",
    "d3 = np.array([0, 0, 0, 0, 0.119, 0.119, 0.119, 0.119, 0, 0, 0, 0])\n",
    "q1 = np.array([0.088, 0, 0, 0, 0, 0, 0, 0.239, 0, 0, 0, 0])"
   ]
  },
  {
   "cell_type": "code",
   "execution_count": 5,
   "id": "ee2f3ee9-1339-4eb1-983e-d9e5c45d1ef9",
   "metadata": {},
   "outputs": [],
   "source": [
    "def cosin_sim(v1, v2):\n",
    "    return np.dot(v1, v2) / (norm(v1) * norm(v2))"
   ]
  },
  {
   "cell_type": "code",
   "execution_count": 7,
   "id": "128e80fe-0cae-4c2c-a4de-581c9d32f3a3",
   "metadata": {},
   "outputs": [
    {
     "name": "stdout",
     "output_type": "stream",
     "text": [
      "d1 cosin sim: 0.07777898365995775\n",
      "d2 cosin sim: 0.06066488191046869\n",
      "d3 cosin sim: 0.46920506765566733\n"
     ]
    }
   ],
   "source": [
    "print(f\"d1 cosin sim: {cosin_sim(d1,q1)}\")\n",
    "print(f\"d2 cosin sim: {cosin_sim(d2,q1)}\")\n",
    "print(f\"d3 cosin sim: {cosin_sim(d3,q1)}\")"
   ]
  },
  {
   "cell_type": "code",
   "execution_count": null,
   "id": "012681e0-bf17-4629-ab58-6da7f067ab4e",
   "metadata": {},
   "outputs": [],
   "source": []
  }
 ],
 "metadata": {
  "kernelspec": {
   "display_name": "Python 3 (ipykernel)",
   "language": "python",
   "name": "python3"
  },
  "language_info": {
   "codemirror_mode": {
    "name": "ipython",
    "version": 3
   },
   "file_extension": ".py",
   "mimetype": "text/x-python",
   "name": "python",
   "nbconvert_exporter": "python",
   "pygments_lexer": "ipython3",
   "version": "3.8.17"
  }
 },
 "nbformat": 4,
 "nbformat_minor": 5
}
